{
 "cells": [
  {
   "cell_type": "markdown",
   "id": "6aa3a75b",
   "metadata": {},
   "source": [
    "# My Notebook Title"
   ]
  },
  {
   "cell_type": "markdown",
   "id": "147dc19c",
   "metadata": {},
   "source": [
    "## Introduction\n",
    "\n",
    "Welcome to my Jupyter Notebook! In this notebook, I will be exploring data from the Titanic dataset and analyzing factors that contributed to passenger survival. The Titanic dataset is a classic dataset used for data analysis and visualization, and I'm excited to dive into it. \n",
    "\n",
    "In the next few cells, I will be loading the dataset, cleaning and pre-processing the data, and then visualizing some of the key features. So let's get started!\n"
   ]
  },
  {
   "cell_type": "markdown",
   "id": "0a6c64c5",
   "metadata": {},
   "source": [
    "## Popular Data Science Languages\n",
    "\n",
    "- Python\n",
    "- R\n",
    "- SQL\n",
    "- Java\n",
    "- Matlab\n",
    "- Scala\n",
    "- Julia\n"
   ]
  },
  {
   "cell_type": "markdown",
   "id": "8c43b860",
   "metadata": {},
   "source": [
    "## Popular Data Science Libraries\n",
    "\n",
    "- NumPy\n",
    "- Pandas\n",
    "- Matplotlib\n",
    "- Seaborn\n",
    "- Scikit-learn\n",
    "- TensorFlow\n",
    "- Keras\n",
    "- PyTorch\n",
    "- NLTK\n",
    "- OpenCV\n"
   ]
  },
  {
   "cell_type": "markdown",
   "id": "e6d43234",
   "metadata": {},
   "source": [
    "## Data Science Tools\n",
    "\n",
    "| Tool | Description |\n",
    "| ---- | ----------- |\n",
    "| Python | A popular programming language for data science |\n",
    "| R | A statistical programming language used for data analysis |\n",
    "| SQL | A language used to manage and analyze relational databases |\n",
    "| Tableau | A data visualization tool used for creating interactive dashboards |\n",
    "| Apache Spark | A distributed computing framework used for processing large datasets |\n",
    "| Jupyter Notebook | An open-source web application used for creating and sharing documents with live code, equations, visualizations, and narrative text |\n",
    "| Docker | A platform for building, shipping, and running distributed applications |\n",
    "| Git | A version control system used for tracking changes in code |\n"
   ]
  },
  {
   "cell_type": "markdown",
   "id": "2d2b9cef",
   "metadata": {},
   "source": [
    "## Arithmetic Expressions\n",
    "\n",
    "Arithmetic expressions are mathematical operations that involve numbers, variables, and operators. Here are some examples of arithmetic expressions:\n",
    "\n",
    "- `3 + 4`: Addition expression that evaluates to `7`\n",
    "- `5 * 6`: Multiplication expression that evaluates to `30`\n",
    "- `9 - 2`: Subtraction expression that evaluates to `7`\n",
    "- `12 / 4`: Division expression that evaluates to `3`\n",
    "- `4 ** 3`: Exponentiation expression that evaluates to `64`\n",
    "\n",
    "In Python, you can use arithmetic expressions to perform mathematical operations. For example, to calculate the area of a rectangle with a width of `5` units and a height of `3` units, you can use the following arithmetic expression:\n",
    "\n"
   ]
  },
  {
   "cell_type": "code",
   "execution_count": 3,
   "id": "6948b791",
   "metadata": {},
   "outputs": [],
   "source": [
    "area = 5 * 3"
   ]
  },
  {
   "cell_type": "code",
   "execution_count": 4,
   "id": "9e708a3a",
   "metadata": {},
   "outputs": [
    {
     "data": {
      "text/plain": [
       "15"
      ]
     },
     "execution_count": 4,
     "metadata": {},
     "output_type": "execute_result"
    }
   ],
   "source": [
    "area"
   ]
  },
  {
   "cell_type": "code",
   "execution_count": 5,
   "id": "375c8b2e",
   "metadata": {},
   "outputs": [
    {
     "name": "stdout",
     "output_type": "stream",
     "text": [
      "The result of multiplying 5 and 3 is 15\n",
      "The result of adding 10 and 7 is 17\n"
     ]
    }
   ],
   "source": [
    "# Multiply two numbers\n",
    "x = 5\n",
    "y = 3\n",
    "result_multiply = x * y\n",
    "print(\"The result of multiplying\", x, \"and\", y, \"is\", result_multiply)\n",
    "\n",
    "# Add two numbers\n",
    "a = 10\n",
    "b = 7\n",
    "result_add = a + b\n",
    "print(\"The result of adding\", a, \"and\", b, \"is\", result_add)\n"
   ]
  },
  {
   "cell_type": "code",
   "execution_count": 6,
   "id": "7729b623",
   "metadata": {},
   "outputs": [
    {
     "name": "stdout",
     "output_type": "stream",
     "text": [
      "135 minutes is equal to 2.25 hours\n"
     ]
    }
   ],
   "source": [
    "# Convert minutes to hours\n",
    "minutes = 135\n",
    "hours = minutes / 60\n",
    "print(minutes, \"minutes is equal to\", hours, \"hours\")\n"
   ]
  },
  {
   "cell_type": "markdown",
   "id": "fd19e3fb",
   "metadata": {},
   "source": [
    "## Objectives\n",
    "\n",
    "The objectives of this notebook are:\n",
    "\n",
    "- To introduce arithmetic expressions in Python\n",
    "- To demonstrate how to perform basic mathematical operations in Python\n",
    "- To show how to convert minutes to hours using Python\n"
   ]
  },
  {
   "cell_type": "markdown",
   "id": "3a9082db",
   "metadata": {},
   "source": [
    "### Author: GAJJI SRINATH\n"
   ]
  }
 ],
 "metadata": {
  "kernelspec": {
   "display_name": "Python 3 (ipykernel)",
   "language": "python",
   "name": "python3"
  },
  "language_info": {
   "codemirror_mode": {
    "name": "ipython",
    "version": 3
   },
   "file_extension": ".py",
   "mimetype": "text/x-python",
   "name": "python",
   "nbconvert_exporter": "python",
   "pygments_lexer": "ipython3",
   "version": "3.9.13"
  }
 },
 "nbformat": 4,
 "nbformat_minor": 5
}
